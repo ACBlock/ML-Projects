{
 "cells": [
  {
   "cell_type": "markdown",
   "id": "c792bdb6",
   "metadata": {},
   "source": [
    "# Predicting Heart Disease\n",
    "This notebook uses several Python based Machine Leanrning and data science tools to predict whether a patient has heart disesase. This is not a diagnostic tool.\n",
    "\n",
    "The following approach will be used\n",
    "1. Problem Definition (see above)\n",
    "2. Data Exploration\n",
    "3. Evaluation \n",
    "4. What features contribute most\n",
    "5. Modelling the data\n",
    "6. Validation and Improvement"
   ]
  },
  {
   "cell_type": "markdown",
   "id": "980337eb",
   "metadata": {},
   "source": [
    "Original data from: https://archive.ics.uci.edu/ml/datasets/heart+disease\n",
    "\n",
    "Data in CSV form from: https://www.kaggle.com/ronitf/heart-disease-uci\n",
    "\n",
    "The data has 76 total columns, however only 14 of them are used in published experiments. I will also be using this 14 column subset.\n",
    "\n",
    "1. age\n",
    "2. sex\n",
    "3. chest pain type (4 values)\n",
    "4. resting blood pressure\n",
    "5. serum cholestoral in mg/dl\n",
    "6. fasting blood sugar > 120 mg/dl\n",
    "7. resting electrocardiographic results (values 0,1,2)\n",
    "8. maximum heart rate achieved\n",
    "9. exercise induced angina\n",
    "10. oldpeak = ST depression induced by exercise relative to rest\n",
    "11. the slope of the peak exercise ST segment\n",
    "12. number of major vessels (0-3) colored by flourosopy\n",
    "13. thal: 3 = normal; 6 = fixed defect; 7 = reversable defect\n",
    "14. target"
   ]
  },
  {
   "cell_type": "markdown",
   "id": "dbeddf15",
   "metadata": {},
   "source": [
    "# Imports"
   ]
  },
  {
   "cell_type": "code",
   "execution_count": 149,
   "id": "e42f8638",
   "metadata": {},
   "outputs": [],
   "source": [
    "#EDA and plotting libraries\n",
    "import numpy as np\n",
    "import pandas as pd\n",
    "import matplotlib.pyplot as plt\n",
    "import seaborn as sns\n",
    "\n",
    "%matplotlib inline\n",
    "\n",
    "#Models\n",
    "from sklearn.linear_model import LogisticRegression\n",
    "from sklearn.neighbors import KNeighborsClassifier\n",
    "from sklearn.ensemble import RandomForestClassifier\n",
    "\n",
    "# Model Evaluation\n",
    "from sklearn.model_selection import train_test_split, cross_val_score\n",
    "from sklearn.model_selection import RandomizedSearchCV, GridSearchCV\n",
    "from sklearn.preprocessing import MinMaxScaler, OneHotEncoder\n",
    "from sklearn.compose import ColumnTransformer\n",
    "from sklearn.metrics import confusion_matrix, classification_report\n",
    "from sklearn.metrics import precision_score, recall_score, f1_score\n",
    "from sklearn.metrics import plot_roc_curve"
   ]
  },
  {
   "cell_type": "markdown",
   "id": "47ed272c",
   "metadata": {},
   "source": [
    "## Load Data"
   ]
  },
  {
   "cell_type": "code",
   "execution_count": 19,
   "id": "6ee95435",
   "metadata": {},
   "outputs": [
    {
     "data": {
      "text/html": [
       "<div>\n",
       "<style scoped>\n",
       "    .dataframe tbody tr th:only-of-type {\n",
       "        vertical-align: middle;\n",
       "    }\n",
       "\n",
       "    .dataframe tbody tr th {\n",
       "        vertical-align: top;\n",
       "    }\n",
       "\n",
       "    .dataframe thead th {\n",
       "        text-align: right;\n",
       "    }\n",
       "</style>\n",
       "<table border=\"1\" class=\"dataframe\">\n",
       "  <thead>\n",
       "    <tr style=\"text-align: right;\">\n",
       "      <th></th>\n",
       "      <th>age</th>\n",
       "      <th>sex</th>\n",
       "      <th>cp</th>\n",
       "      <th>trestbps</th>\n",
       "      <th>chol</th>\n",
       "      <th>fbs</th>\n",
       "      <th>restecg</th>\n",
       "      <th>thalach</th>\n",
       "      <th>exang</th>\n",
       "      <th>oldpeak</th>\n",
       "      <th>slope</th>\n",
       "      <th>ca</th>\n",
       "      <th>thal</th>\n",
       "      <th>target</th>\n",
       "    </tr>\n",
       "  </thead>\n",
       "  <tbody>\n",
       "    <tr>\n",
       "      <th>0</th>\n",
       "      <td>63</td>\n",
       "      <td>1</td>\n",
       "      <td>3</td>\n",
       "      <td>145</td>\n",
       "      <td>233</td>\n",
       "      <td>1</td>\n",
       "      <td>0</td>\n",
       "      <td>150</td>\n",
       "      <td>0</td>\n",
       "      <td>2.3</td>\n",
       "      <td>0</td>\n",
       "      <td>0</td>\n",
       "      <td>1</td>\n",
       "      <td>1</td>\n",
       "    </tr>\n",
       "    <tr>\n",
       "      <th>1</th>\n",
       "      <td>37</td>\n",
       "      <td>1</td>\n",
       "      <td>2</td>\n",
       "      <td>130</td>\n",
       "      <td>250</td>\n",
       "      <td>0</td>\n",
       "      <td>1</td>\n",
       "      <td>187</td>\n",
       "      <td>0</td>\n",
       "      <td>3.5</td>\n",
       "      <td>0</td>\n",
       "      <td>0</td>\n",
       "      <td>2</td>\n",
       "      <td>1</td>\n",
       "    </tr>\n",
       "    <tr>\n",
       "      <th>2</th>\n",
       "      <td>41</td>\n",
       "      <td>0</td>\n",
       "      <td>1</td>\n",
       "      <td>130</td>\n",
       "      <td>204</td>\n",
       "      <td>0</td>\n",
       "      <td>0</td>\n",
       "      <td>172</td>\n",
       "      <td>0</td>\n",
       "      <td>1.4</td>\n",
       "      <td>2</td>\n",
       "      <td>0</td>\n",
       "      <td>2</td>\n",
       "      <td>1</td>\n",
       "    </tr>\n",
       "    <tr>\n",
       "      <th>3</th>\n",
       "      <td>56</td>\n",
       "      <td>1</td>\n",
       "      <td>1</td>\n",
       "      <td>120</td>\n",
       "      <td>236</td>\n",
       "      <td>0</td>\n",
       "      <td>1</td>\n",
       "      <td>178</td>\n",
       "      <td>0</td>\n",
       "      <td>0.8</td>\n",
       "      <td>2</td>\n",
       "      <td>0</td>\n",
       "      <td>2</td>\n",
       "      <td>1</td>\n",
       "    </tr>\n",
       "    <tr>\n",
       "      <th>4</th>\n",
       "      <td>57</td>\n",
       "      <td>0</td>\n",
       "      <td>0</td>\n",
       "      <td>120</td>\n",
       "      <td>354</td>\n",
       "      <td>0</td>\n",
       "      <td>1</td>\n",
       "      <td>163</td>\n",
       "      <td>1</td>\n",
       "      <td>0.6</td>\n",
       "      <td>2</td>\n",
       "      <td>0</td>\n",
       "      <td>2</td>\n",
       "      <td>1</td>\n",
       "    </tr>\n",
       "  </tbody>\n",
       "</table>\n",
       "</div>"
      ],
      "text/plain": [
       "   age  sex  cp  trestbps  chol  fbs  restecg  thalach  exang  oldpeak  slope  \\\n",
       "0   63    1   3       145   233    1        0      150      0      2.3      0   \n",
       "1   37    1   2       130   250    0        1      187      0      3.5      0   \n",
       "2   41    0   1       130   204    0        0      172      0      1.4      2   \n",
       "3   56    1   1       120   236    0        1      178      0      0.8      2   \n",
       "4   57    0   0       120   354    0        1      163      1      0.6      2   \n",
       "\n",
       "   ca  thal  target  \n",
       "0   0     1       1  \n",
       "1   0     2       1  \n",
       "2   0     2       1  \n",
       "3   0     2       1  \n",
       "4   0     2       1  "
      ]
     },
     "execution_count": 19,
     "metadata": {},
     "output_type": "execute_result"
    }
   ],
   "source": [
    "df = pd.read_csv(\"Path to data goes here")\n",
    "df.head()"
   ]
  },
  {
   "cell_type": "markdown",
   "id": "74ff62b3",
   "metadata": {},
   "source": [
    "# EDA"
   ]
  },
  {
   "cell_type": "markdown",
   "id": "dfe33905",
   "metadata": {},
   "source": [
    "### EDA Checklist\n",
    "\n",
    "1. What questions are we trying to solve?\n",
    "2. What kind of data do we have?\n",
    "3. What's missing?\n",
    "4. What are the outliers?"
   ]
  },
  {
   "cell_type": "code",
   "execution_count": 17,
   "id": "75118a6c",
   "metadata": {},
   "outputs": [
    {
     "data": {
      "text/plain": [
       "1    165\n",
       "0    138\n",
       "Name: target, dtype: int64"
      ]
     },
     "execution_count": 17,
     "metadata": {},
     "output_type": "execute_result"
    },
    {
     "data": {
      "image/png": "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\n",
      "text/plain": [
       "<Figure size 432x288 with 1 Axes>"
      ]
     },
     "metadata": {
      "needs_background": "light"
     },
     "output_type": "display_data"
    }
   ],
   "source": [
    "# What do the classes we're trying to predict look like?\n",
    "ax = df[\"target\"].value_counts().plot(kind=\"bar\", color=[\"blue\", \"orange\"], title=\"Prevalence of Heart Disease in the data set\")\n",
    "\n",
    "df[\"target\"].value_counts()"
   ]
  },
  {
   "cell_type": "markdown",
   "id": "66a48db4",
   "metadata": {},
   "source": [
    "It looks like the two classes are (relatively) even. 0 = no heart disease, 1 = heart disease. Can we do better than roughly a coinflip?"
   ]
  },
  {
   "cell_type": "markdown",
   "id": "0d43fd62",
   "metadata": {},
   "source": [
    "What kind of data do we have?"
   ]
  },
  {
   "cell_type": "code",
   "execution_count": 48,
   "id": "2f5d942a",
   "metadata": {},
   "outputs": [
    {
     "name": "stdout",
     "output_type": "stream",
     "text": [
      "<class 'pandas.core.frame.DataFrame'>\n",
      "RangeIndex: 303 entries, 0 to 302\n",
      "Data columns (total 14 columns):\n",
      " #   Column    Non-Null Count  Dtype  \n",
      "---  ------    --------------  -----  \n",
      " 0   age       303 non-null    int64  \n",
      " 1   sex       303 non-null    int64  \n",
      " 2   cp        303 non-null    int64  \n",
      " 3   trestbps  303 non-null    int64  \n",
      " 4   chol      303 non-null    int64  \n",
      " 5   fbs       303 non-null    int64  \n",
      " 6   restecg   303 non-null    int64  \n",
      " 7   thalach   303 non-null    int64  \n",
      " 8   exang     303 non-null    int64  \n",
      " 9   oldpeak   303 non-null    float64\n",
      " 10  slope     303 non-null    int64  \n",
      " 11  ca        303 non-null    int64  \n",
      " 12  thal      303 non-null    int64  \n",
      " 13  target    303 non-null    int64  \n",
      "dtypes: float64(1), int64(13)\n",
      "memory usage: 33.3 KB\n"
     ]
    }
   ],
   "source": [
    "df.info()"
   ]
  },
  {
   "cell_type": "markdown",
   "id": "0b4442c0",
   "metadata": {},
   "source": [
    "This implies that all the columns are numeric. This is technically true, but some columns are categorically represented by numbers. 'cp' (chest pain) and 'thal' (Thalium stress test result) are categorical columns, and we'll need to encode them as such later on. ***** Categorical Transformation not implemented as of 4/12/21 at 11:43 PM, I completely forgot and now I am very tired. Should be fixed by this time on 4/13/21****"
   ]
  },
  {
   "cell_type": "markdown",
   "id": "b96c14c6",
   "metadata": {},
   "source": [
    "Any missing values?"
   ]
  },
  {
   "cell_type": "code",
   "execution_count": 21,
   "id": "55f7f526",
   "metadata": {},
   "outputs": [
    {
     "data": {
      "text/plain": [
       "age         0\n",
       "sex         0\n",
       "cp          0\n",
       "trestbps    0\n",
       "chol        0\n",
       "fbs         0\n",
       "restecg     0\n",
       "thalach     0\n",
       "exang       0\n",
       "oldpeak     0\n",
       "slope       0\n",
       "ca          0\n",
       "thal        0\n",
       "target      0\n",
       "dtype: int64"
      ]
     },
     "execution_count": 21,
     "metadata": {},
     "output_type": "execute_result"
    }
   ],
   "source": [
    "df.isna().sum()"
   ]
  },
  {
   "cell_type": "markdown",
   "id": "ecdb9546",
   "metadata": {},
   "source": [
    "No missing values, which saves us a bit of imputing later on. "
   ]
  },
  {
   "cell_type": "code",
   "execution_count": 22,
   "id": "fa1cdc98",
   "metadata": {},
   "outputs": [
    {
     "data": {
      "text/html": [
       "<div>\n",
       "<style scoped>\n",
       "    .dataframe tbody tr th:only-of-type {\n",
       "        vertical-align: middle;\n",
       "    }\n",
       "\n",
       "    .dataframe tbody tr th {\n",
       "        vertical-align: top;\n",
       "    }\n",
       "\n",
       "    .dataframe thead th {\n",
       "        text-align: right;\n",
       "    }\n",
       "</style>\n",
       "<table border=\"1\" class=\"dataframe\">\n",
       "  <thead>\n",
       "    <tr style=\"text-align: right;\">\n",
       "      <th></th>\n",
       "      <th>age</th>\n",
       "      <th>sex</th>\n",
       "      <th>cp</th>\n",
       "      <th>trestbps</th>\n",
       "      <th>chol</th>\n",
       "      <th>fbs</th>\n",
       "      <th>restecg</th>\n",
       "      <th>thalach</th>\n",
       "      <th>exang</th>\n",
       "      <th>oldpeak</th>\n",
       "      <th>slope</th>\n",
       "      <th>ca</th>\n",
       "      <th>thal</th>\n",
       "      <th>target</th>\n",
       "    </tr>\n",
       "  </thead>\n",
       "  <tbody>\n",
       "    <tr>\n",
       "      <th>count</th>\n",
       "      <td>303.000000</td>\n",
       "      <td>303.000000</td>\n",
       "      <td>303.000000</td>\n",
       "      <td>303.000000</td>\n",
       "      <td>303.000000</td>\n",
       "      <td>303.000000</td>\n",
       "      <td>303.000000</td>\n",
       "      <td>303.000000</td>\n",
       "      <td>303.000000</td>\n",
       "      <td>303.000000</td>\n",
       "      <td>303.000000</td>\n",
       "      <td>303.000000</td>\n",
       "      <td>303.000000</td>\n",
       "      <td>303.000000</td>\n",
       "    </tr>\n",
       "    <tr>\n",
       "      <th>mean</th>\n",
       "      <td>54.366337</td>\n",
       "      <td>0.683168</td>\n",
       "      <td>0.966997</td>\n",
       "      <td>131.623762</td>\n",
       "      <td>246.264026</td>\n",
       "      <td>0.148515</td>\n",
       "      <td>0.528053</td>\n",
       "      <td>149.646865</td>\n",
       "      <td>0.326733</td>\n",
       "      <td>1.039604</td>\n",
       "      <td>1.399340</td>\n",
       "      <td>0.729373</td>\n",
       "      <td>2.313531</td>\n",
       "      <td>0.544554</td>\n",
       "    </tr>\n",
       "    <tr>\n",
       "      <th>std</th>\n",
       "      <td>9.082101</td>\n",
       "      <td>0.466011</td>\n",
       "      <td>1.032052</td>\n",
       "      <td>17.538143</td>\n",
       "      <td>51.830751</td>\n",
       "      <td>0.356198</td>\n",
       "      <td>0.525860</td>\n",
       "      <td>22.905161</td>\n",
       "      <td>0.469794</td>\n",
       "      <td>1.161075</td>\n",
       "      <td>0.616226</td>\n",
       "      <td>1.022606</td>\n",
       "      <td>0.612277</td>\n",
       "      <td>0.498835</td>\n",
       "    </tr>\n",
       "    <tr>\n",
       "      <th>min</th>\n",
       "      <td>29.000000</td>\n",
       "      <td>0.000000</td>\n",
       "      <td>0.000000</td>\n",
       "      <td>94.000000</td>\n",
       "      <td>126.000000</td>\n",
       "      <td>0.000000</td>\n",
       "      <td>0.000000</td>\n",
       "      <td>71.000000</td>\n",
       "      <td>0.000000</td>\n",
       "      <td>0.000000</td>\n",
       "      <td>0.000000</td>\n",
       "      <td>0.000000</td>\n",
       "      <td>0.000000</td>\n",
       "      <td>0.000000</td>\n",
       "    </tr>\n",
       "    <tr>\n",
       "      <th>25%</th>\n",
       "      <td>47.500000</td>\n",
       "      <td>0.000000</td>\n",
       "      <td>0.000000</td>\n",
       "      <td>120.000000</td>\n",
       "      <td>211.000000</td>\n",
       "      <td>0.000000</td>\n",
       "      <td>0.000000</td>\n",
       "      <td>133.500000</td>\n",
       "      <td>0.000000</td>\n",
       "      <td>0.000000</td>\n",
       "      <td>1.000000</td>\n",
       "      <td>0.000000</td>\n",
       "      <td>2.000000</td>\n",
       "      <td>0.000000</td>\n",
       "    </tr>\n",
       "    <tr>\n",
       "      <th>50%</th>\n",
       "      <td>55.000000</td>\n",
       "      <td>1.000000</td>\n",
       "      <td>1.000000</td>\n",
       "      <td>130.000000</td>\n",
       "      <td>240.000000</td>\n",
       "      <td>0.000000</td>\n",
       "      <td>1.000000</td>\n",
       "      <td>153.000000</td>\n",
       "      <td>0.000000</td>\n",
       "      <td>0.800000</td>\n",
       "      <td>1.000000</td>\n",
       "      <td>0.000000</td>\n",
       "      <td>2.000000</td>\n",
       "      <td>1.000000</td>\n",
       "    </tr>\n",
       "    <tr>\n",
       "      <th>75%</th>\n",
       "      <td>61.000000</td>\n",
       "      <td>1.000000</td>\n",
       "      <td>2.000000</td>\n",
       "      <td>140.000000</td>\n",
       "      <td>274.500000</td>\n",
       "      <td>0.000000</td>\n",
       "      <td>1.000000</td>\n",
       "      <td>166.000000</td>\n",
       "      <td>1.000000</td>\n",
       "      <td>1.600000</td>\n",
       "      <td>2.000000</td>\n",
       "      <td>1.000000</td>\n",
       "      <td>3.000000</td>\n",
       "      <td>1.000000</td>\n",
       "    </tr>\n",
       "    <tr>\n",
       "      <th>max</th>\n",
       "      <td>77.000000</td>\n",
       "      <td>1.000000</td>\n",
       "      <td>3.000000</td>\n",
       "      <td>200.000000</td>\n",
       "      <td>564.000000</td>\n",
       "      <td>1.000000</td>\n",
       "      <td>2.000000</td>\n",
       "      <td>202.000000</td>\n",
       "      <td>1.000000</td>\n",
       "      <td>6.200000</td>\n",
       "      <td>2.000000</td>\n",
       "      <td>4.000000</td>\n",
       "      <td>3.000000</td>\n",
       "      <td>1.000000</td>\n",
       "    </tr>\n",
       "  </tbody>\n",
       "</table>\n",
       "</div>"
      ],
      "text/plain": [
       "              age         sex          cp    trestbps        chol         fbs  \\\n",
       "count  303.000000  303.000000  303.000000  303.000000  303.000000  303.000000   \n",
       "mean    54.366337    0.683168    0.966997  131.623762  246.264026    0.148515   \n",
       "std      9.082101    0.466011    1.032052   17.538143   51.830751    0.356198   \n",
       "min     29.000000    0.000000    0.000000   94.000000  126.000000    0.000000   \n",
       "25%     47.500000    0.000000    0.000000  120.000000  211.000000    0.000000   \n",
       "50%     55.000000    1.000000    1.000000  130.000000  240.000000    0.000000   \n",
       "75%     61.000000    1.000000    2.000000  140.000000  274.500000    0.000000   \n",
       "max     77.000000    1.000000    3.000000  200.000000  564.000000    1.000000   \n",
       "\n",
       "          restecg     thalach       exang     oldpeak       slope          ca  \\\n",
       "count  303.000000  303.000000  303.000000  303.000000  303.000000  303.000000   \n",
       "mean     0.528053  149.646865    0.326733    1.039604    1.399340    0.729373   \n",
       "std      0.525860   22.905161    0.469794    1.161075    0.616226    1.022606   \n",
       "min      0.000000   71.000000    0.000000    0.000000    0.000000    0.000000   \n",
       "25%      0.000000  133.500000    0.000000    0.000000    1.000000    0.000000   \n",
       "50%      1.000000  153.000000    0.000000    0.800000    1.000000    0.000000   \n",
       "75%      1.000000  166.000000    1.000000    1.600000    2.000000    1.000000   \n",
       "max      2.000000  202.000000    1.000000    6.200000    2.000000    4.000000   \n",
       "\n",
       "             thal      target  \n",
       "count  303.000000  303.000000  \n",
       "mean     2.313531    0.544554  \n",
       "std      0.612277    0.498835  \n",
       "min      0.000000    0.000000  \n",
       "25%      2.000000    0.000000  \n",
       "50%      2.000000    1.000000  \n",
       "75%      3.000000    1.000000  \n",
       "max      3.000000    1.000000  "
      ]
     },
     "execution_count": 22,
     "metadata": {},
     "output_type": "execute_result"
    }
   ],
   "source": [
    "df.describe()"
   ]
  },
  {
   "cell_type": "markdown",
   "id": "4405233a",
   "metadata": {},
   "source": [
    "How does heart disease scale with the sex of the patients in the study? Male = 1, Female = 0"
   ]
  },
  {
   "cell_type": "code",
   "execution_count": 47,
   "id": "ff3a3669",
   "metadata": {},
   "outputs": [
    {
     "data": {
      "image/png": "iVBORw0KGgoAAAANSUhEUgAAAYYAAAETCAYAAAAyK6EVAAAAOXRFWHRTb2Z0d2FyZQBNYXRwbG90bGliIHZlcnNpb24zLjMuNCwgaHR0cHM6Ly9tYXRwbG90bGliLm9yZy8QVMy6AAAACXBIWXMAAAsTAAALEwEAmpwYAAAlWUlEQVR4nO3deXwV1fnH8U8IoCjozyVooQVU5HFFFHGrAi5o3UXbWquVqrg0YrGtu1biVm3d0CpQQUSta1GsuIEbaq1L2VQsPq2ixQpqtApBUUTy++Oc4L0xyyTcySTh+369eOXeuXfOPDN3mGfOOTNniiorKxEREanSJusARESkeVFiEBGRPEoMIiKSR4lBRETyKDGIiEgeJQYREcnTNusAWhMz6wG8BbyWM7kIuM7dxzfB8iuBEnf/KO1lNZSZjQZ+ANzp7ufnTC8DNnT3YSktdxPgKnc/IsF35wDDgH8BE919tzRiWhVmNhsY6O6fJvz+QOBp4DZ3H1Lts2nAju7esZ4ypgE3uPvEhkecnri/zwG+zpk83d2HprzcCcAcd78qzeVkSYmh8Ja6e5+qN2bWFZhjZtPd/dXswsrcyUA3d/9vEy+3O2ANmcHdFwDNLikA5O5bDbAQONjM1nL3zwHMrDvQq5CxZWTP5ngi1NIpMaTM3d8zs38DvcxsB+AEYG1gkbvvaWYnAKWEZr2PCWesC4F3gV7u/j6Amb0ElBFqJDcCnYDvALOBI939i9zl1lSuu78Rz3YWA9sC3wNeBY519yVmtjNwfYxvGXCGuz9lZlsC1wEbAMXA9TXVgMxsa+CG+L1K4Gp3v83MniPUnB41s1J3f67arFuY2dNxfT4AfuLuC2NSvQHoBrQD7nb338VlnQccCnSI8Z7h7pNiDWRXoAvhbLIf0NXMprj7ftXi3QoYD6wFvBHLqar5zXH3jma2BXAzsGZch3HuPip+73zgiLiN3wFK3X2Bme0C/AFYI67T4+5+gpm1Bf4IfB/4CpgHHBe3/W7A72MMXwMXuftDNWzjSqAEOAgYDKwANgc+B4a4+9zq8wD/I+w3hwF3xmnHxtenxHLXBkbHsjYAKoCfurtXW36NcZrZxsBtwIbxqw+7+2+rzXsScLC7HxzfbwE8Sfh9L4zrs4ywv/7c3RfWsC6J1LbPxhrU5cB8wgnDZ8AVwC/j+/vc/Vdm1ga4FtiF8H+tCBjq7s8nXE5H4BbC9lwBzABOdvcVjV2npqQ+hpSZ2a5AT+ClOGlrQlPAnmY2ABgC7OHu2xMOJpPcfREwCTgmlrElsDEwBTgRuNXdd4nlbgIcWG2ZNZab85W+hGadLYEewI/MrB3wAHCxu28Tl3OdmbUHJgLnuHtfYABwRjz45S6zLfAg8Ed37w3sD/zOzHZ19z3i1/asISkAbAr82N23AD4BqpoCbgfGx+XuBOxjZj+OZ7v7xO3YGzgfuDinvO7A9u5+VCzrrepJIboDGBvLuC7OV92ZwOQYwwFAfzNrY2bHEpLrTvEs/hFgXJxnOHChu+8MbAUcYmZ9CQlrILBdLG8e0NvM1iMcRH7m7jsQEt5oM+tWQzy5BgCnxd/rJeCcOr57G/CznPdH8k2SgPB7feruu7p7L+AfhJOUleqJ80RgXpy+B7C5ma1bLYa7gN1jEgE4LpbXBTgd6OfuOwJTgZ3rWfcqT5vZ7Jx/neO+WNc+2w+4Iv5ui4FzCf+HdgBONbMucfldgF3dfSvgVqpt33qWMxjoFJfRL86yacJ1ypxqDIXXIbYDQ9i+HwFHu/u7Zgbwqrsvjp8fSDi4/z1+BrCema1POMiMAq4i/Aca7+4rzOxsYJCZnUVoCugCVG8jrqtcgMfc/UsAM3sNWJ9wkPva3R8GcPcZwLbxrHozYHxOWR2A7YEXc5bZC1jT3e+P8y8ws/sICeiFerbZ4+5eHl+/AnSOZ7ADgPXN7JL4WUegj7vfGw/MR5tZT8JZXe42eNHdl9e1QDPbAOhNOGDi7s/HPobqJgG3mdlOwBPAL+PvcBAhWU2P26WYUPOAkJQPiLWaLQjbq2Nct6+Bl8xsCuHs9GUzO4BQs3ggZxtXxvjm17EaM3Ka5mYCh9fx3cmEg/hGhH3jDUJNgrj+E81snpmdFj8fyLd/t13riPMx4JGYJJ4gHCwX5c7s7hVmdj9wjJldCxxNSCLvxW0z08weBR519yfrWJdc32pKqmefnQu87e6z4vS3CLX3ZcBHZrYYWN/dXzCzC4CTzWyzuD0qqi27Vx3LeYxwYjQNeBwY6e5vJlynzCkxFF5eH0MNluS8LgZud/ezAWL1tQvwibs/Z2Zt4wHpp4T/lBDOutoC9wIPE6rhRdWWUWu5VTHmfLcyzr88vl7JzLaJny2q1m+yEZD3nz4us/rAW20ITUD1+aqGeIrj391y2sU3BL6ITXJ/JVT1pwLPEJpBquRu4/rkbrtvJZPYTLI5MAjYGxgRz/6Lgd+7++gY2xrAenG2ZwlNdI8RfqedgSJ3/9TMtiM0Je0F3GNmVxKaDefGGgaxvC5AVbKsTU2/Y43cfVlM1D8h1Fon5H5uZr8ATiI03d1JSBqbVCumuLY43f0rCx39+8R1e9nM9o8nGLnGAjcRDtBz3f3tWM4AYMc4/7Vm9pi7n1XP+temmNr32V2AL6t9/6tq7zGzAwm1yKsJ+9obxBp8kuW4+xfxpGUgYXs8YWYnufvkRq5Tk1JTUramAEeZ2Xfi+1MIba5VxhHapF9193fjtP0IzT33xPc7E3bQhpRbEwcqzWwQQDz4PhWnLzWzqmat7xHa7vtWm/8N4CszOzx+rwuh/f3xepZbczChVvUi8OtY3v8BzxOaL/oTrj65hpAUDuPb26DKcmpITu7+MaHdd2jO+m5b/XtmdiehD+duQp/NYsJZ4hRgqJmtE796MXB7jLMfcHasPX2XcAZeHGsZTwJ/d/cyQm2lX1zPzc2sf1xmH+DfQNf6tlMD3Qb8nLD9Hqv22X7ABHe/mfCbH8y3t2mtcZrZFcBv3f0BQlPa68A21QNw9xcJCexCQpIgJss5hERxOSHh96s+bwMk3WfrMojQhDgamE7N+1ity4mJ9hZgajxBm0JoqmoRlBgy5O5TCR15j5vZq4SaweHuXnXmfSvQh2/argHOAybFJqA/EQ6MPRtYbk2xfEloihgRm8LGxHmWEQ7GQ2NZUwkHgOerzf8V4T/P8Pi9JwgJ7OkGbZR8PwV2iev6EnCXu99BqDVtaGZzgX8Sagjrm1mnGsr4J6GW8bKZVT+jPgr4SSz/t4Sz2OouITRZvRJjmESoEYwDHgJeNLPXCc0pP/dwGenlhGaROYR26ecJv9GjhAPmHDObTrjy6aLYjHYEcGVczu2Edvx3Gra56ubuLxA6jR+qoantKkKzyavAc4Smqer7VV1xjgT6xHWeDrwN3F1LKGMJ7e0PxHJfIdSspsftcjzfnBBcbGYX11JObeuZaJ+txxhgYNw3ZhKanDaJte8ky7mNkEj+aWYzgHUJF3a0CEUadltERHKpxiAiInmUGEREJI8Sg4iI5FFiEBGRPK3iPoby8gr1oBfIeuutxSeffJ51GCI10v5ZOCUlnWq970U1BsnTtm1ttwOIZE/7Z9NQYhARkTxKDCIikkeJQURE8igxiIhIHiUGERHJo8QgIiJ5lBhERCRPq7jBTUSkNp071zQae+N9+GH1B7m1PkoMIiIFtnDhAoYMOYpevVY+8pO+fftx3HEnFmwZw4adxJlnnkf37j0KVmYVJQbJd2cRJVnHkED5oMX1f0kkQz16bMINN9yUdRiNosQgItJExoy5gVdemcmKFZUceeTR7LXXPgwbdhI9e/bi7bffokOHDvTuvT0vv/wCS5Ys4ZprbqC4uA1XXHEpS5ZUsGjRpxx88GAGD/7hyjKXLFnCFVdczKJF4THsp59+Jptt1rO2EBJRYhARScE777zNsGEnrXx/yCGDWbjwPUaPHs+XX37JyScfR79+OwOw1VZbc/rpZ/DrX5/GmmuuyciRo7j00hHMnj2TjTbamH322ZcBA/bio4/KGTbspLzEcNtt4+nbdycGD/4h7747n9/97iJGj755lWJXYhARSUH1pqQ77rgV9zdWJovly5fz/vsLAejVawsAOnXqSI8em8TX67Bs2ZdssMEG3HvvnTzzzNOstdbaLF+e/7juefPeZObM6Tz55FQAKipWvXNciUFEpAl0796D7bffkbPPPp8VK1YwYcI4unbtCkBRUa0jYHPXXbezzTa9GTz4h8ycOZ0XXvjbt8rdd9+t2HffH/DJJ/9j8uQHVjlWJQYRadWay+Wl3/9+f2bNmkFp6VCWLv2c/v33ZK211k4031VXXc7UqY+y7rrrUlxczLJly1Z+fuyxx3PFFZfw4IP38/nnn3H88SfVUVoyRZWVLf8ZN3pQT+GUPL5O1iEkoquSVk8lJZ0oL28eB/qWTg/qERGRxJQYREQkjxKDiIjkUWIQEZE8SgwiIpJHl6uKSKtW6CvtVocr4lRjEBEpsJkzp7P77juuvBu5ypAhP+Gyy8pqnOeRRyYzevQfmyC6+ikxiIikoHv3HjzxxJSV7996602WLl2aYUTJqSlJRCQFPXtuzrvvzqeiooJOnToxZcoj7Lvv/nzwwfvcd989PPPM0yxfvpyOHTty2WVX5s07ceLdPP74FIqKith773350Y9+0qSxq8YgIpKS/v335Nlnn6ayspK5c19nm216s2LFChYtWsTIkaMYNWocy5cvZ+7c11fO8/bb83jyyccZNWoco0aN47nnpjF//jtNGrdqDCIiKRk06AdcffUVdOnSle222x6ANm3a0K5dO8rKzqdDhw58+OGHeSOmzpv3Fh988D7Dh/8CCKOl/ve//6Vbtx5NFrcSg4hISrp2/S5Lly5l4sS7OfnkYSxY8B6fffYZzz47jbFjb+WLL77ghBOOyZunW7fu9OixKVdffT1FRUXcc88dbLrpqj14p6GUGESkVcv68tK99x7ElCmP0K1bdxYseI/i4mI6dOjACSf8jPbt27HBBhvy0UflK7+/+ea92HHHfpSWnsCyZV+x5ZZbU1LStA/c1eiqkkejq0pzptFVC0ejq4qISGKpNiWZ2c7A7919oJn1BCYAlcAc4FR3X2FmJwInA8uBS939oTRjEhGRuqVWYzCzs4BxwJpx0jXABe6+B1AEHGpmGwO/BL4P7AdcbmZrpBWTiIjUL82mpLeAw3Pe9wWeia8fBfYBdgKed/cv3X0R8CbQO8WYRESkHqk1Jbn7fWbWI2dSkbtXdRJXAOsC6wCLcr5TNb1eZlYGjAAoLS1l+PDhqxqytCAlJZ2yDkEyot8+fU15ueqKnNedgE+BxfF19en1cvcyoAzCVUm6UqEwmvaiuMbT77160lVJhVNXgm3Kq5JmmdnA+Hp/4DngZWAPM1vTzNYFtiR0TIuISEaassbwG2CsmbUH5gIT3f1rM7uekCTaAOe7+xdNGJOIiFSjG9wkj25wk+ZMTUmFU9cNbolqDLETeWvgMaCbu79dmNBERKS5qbePwcyOBCYD1wMbAC+Y2TF1zyUiIi1Vks7ns4HdgMXu/iGwPXBuqlGJiEhmkiSGr919ZaOeuy8k/9JTERFpRZL0MbxuZsOAdmbWBygFZqcZlIiIZCdJjeFUoCuwFBhPuFO5NM2gREQkO/UmBnf/DBjh7v2AI4FpwGcpxyUiIhlJclXShcCtZtaNMAje6cC1KcclIiIZSdLHcCiwOzAcuMPdzzSz6emGJSJSgzuLWsR4Xi39BswkfQxt3H0pcBDwsJm1AdZONywREclKksTwpJnNAdoDzxKakyanGpWIiGQmSefzGcABwK7uvgI4zd3PSj0yERHJRL19DGa2OTAM6GhmRUCxmW3i7v1Tj05ERJpckqakuwgPz9mecGNbN/TMBBGRVitJYmjv7iMII6vOJDQrDUg1KhERyUySxPC5ma0B/AvoG69QEhGRVirJfQx/JlyFdDRhyO0fAO+lGpWIiGQmyVVJNwBHuHs5MBC4CRicclwiIpKRJENitAdOM7PbgMXAtsBXaQcmIiLZSNLHcCPQEdgBWA70JIyyKiIirVCSxNDX3c8DvnL3z4EhQJ9UoxIRkcwkSQyVsTmpMr7fMOe1iIi0MkkSw0jgCWBjMxsJTEfDbouItFr1Xq7q7reb2QxgT6AYOMjdX0s9MhERyUSSq5LWB7q4e1Un9IVmtlnqkYmISCaSjpXUx8z2Bo4AHgTGpRqViIhkJkliWM/drwIOA25199uBTqlGJSIimUkyJEYbM+tLSAwDzKxPwvlERKQFSlJjOBu4Erja3ecBY4BfpxqViIhkJslVSU8CT+a836WxCzOzdsCtQA/ga+BEwt3UEwj3RswBTo1PihMRkQzUmhjMbKa772BmK/jmhrai+LfS3YsbsbwDgLbuvpuZDQIuA9oBF7j7NDMbAxwKTGpE2SIiUgC1JgZ33yH+TdLclNS/gLZm1gZYhzAY3y7AM/HzR4F9SZAYzKwMGAFQWlrK8OHDCximNHclJbr+QZqvlr5/1lVjuLCuGd394kYsbwmhGekNwtAaBwH93b2qRlIBrJukIHcvA8oAyssrKsvLKxoRjlRXknUACen3Xj1p/yycupJXXbWBovhvZ8L9CyuAZcCBwNaNjOVXwBR37wVsR+hvaJ/zeSfC86VFRCQjdTUlXQRgZs8Du8aRVYnjJT3dyOV9wjfPcvgfoX9hlpkNdPdpwP6rULaIiBRAkvsRSsgfTbUdsH4jl3ctMN7MniPUFM4jDMo3No7gOheY2MiyRUSkAJIkhrHAdDN7hNC0dDBhxNUGc/clwI9r+GhAY8oTEZHCS/LM5yuBY4H3gQXAj919dNqBiYhINhINbeHuM4AZKcciIiLNQCHvURARkVZAiUFERPIkeVDPfTVMe7Km74qISMtX153P9wN9gK5mNq/aPPNTjktERDJSV+fzzwn3K4wCfpEzfTnwQYoxiYhIhuq683kxsNjMNnb3/zRhTCIikqEknc/vm9keZrZG6tGIiEjmktzH0I84LLaZVU1r7PMYRKQZ6ty5ZQwTXXlH1hGsHpI8wa2ljHQrIiIFUG9iMLMS4BigI2GspGJgE3c/NuXYREQkA0n6GO4hXLZ6DLA28EPCsxlERKQVSpIYurj7EGAycD/QH9g+1ahERCQzSRLDJ/GvA9u5+8cpxiMiIhlLclXSU2b2F+AMYKqZ7QAsTTcsERHJSpLnMZwPnBNvcjuKUHM4PO3AREQkG0lHV93ZzC4D3gA+dvcFKcYkIiIZSjK66hXAAYRaQlvgODO7Ou3AREQkG0lqDPsBPwO+iOMnDQL2TzUqERHJTJLEUHXPQmX8uwa6j0FEpNVKkhjuJdzktr6ZnQ48C9yZZlAiIpKdJGMl/d7M9gP+A3QDRrj7Q6lHJiIimUh6VdJ84EHgAcIzGvqnFpGIiGQqySB6NxE6m9/MmVwJ7JVWUCIikp0kdz7vDWzm7svSDkZERLKXpClpPtAh7UBERKR5qLXGYGa3EJqM2gKvmNmzwPKqz939+PTDExGRplZXU9K0+PeZQi7QzM4FDgHaA6Ni+RMISWgOcKq76z4JEZGM1JoY3P3WQi/MzAYCuwHfB9YijNh6DXCBu08zszHAocCkQi9bRESSSXq5aqHsB7xGOPBPBh4C+vJNreRRYJ8mjklERHLU1cfQ093frO3zRtoQ6A4cBGxCuDeijbtXDbdRAaybpCAzKwNGAJSWljJ8+PAChyrNWUlJp6xDEKlVS98/6+pjuB/obWYPuPthBVrex8Ab8dJXN7MvgO/lfN4J+DRJQe5eBpQBlJdXVJaXVxQoxNVbSdYBJKTfu9Ba9oGsuWkJ+2ddyauuxLDMzP5GSA5PVf/Q3Rtzg9vfgOFmdg3wHWBt4EkzG+ju0wg30j3diHJFRKRA6koMewLbAzcDFxViYe7+UBxO42VC/8apwNvAWDNrD8wFJhZiWSIi0jh1XZVUATxrZrvFSTvH77/g7h80doHuflYNkwc0tjwRESmsJFcl7QDMBo4DhgCvmtlBaQYlIiLZSTJW0mXA7u7+NoCZbUromNbQ2yIirVCSGkO7qqQA4O7zEs4nIiItUJIaw/z45Lab4/uhhIf2iIhIK5TkzP8EYFdgHuEKol2Bk9IMSkREspPk0Z4fAkc2QSwiItIMqK9ARETyKDGIiEieBiUGM1vHzLZOKxgREclevX0MZjYU2B04E5gFVJjZ7e7+u7SDExGRppekxvAL4FzgKOCvwLbA4WkGJSIi2UnUlOTuC4EDgIfdfTnQIdWoREQkM0kSw+tm9hCwKfCEmd1DGB1VRERaoSSJ4XjgD8DO8QE7fwZOTDUqERHJTJLE0AbYAxhpZusQntGgy1xFRFqpJAf4GwlPWusLLAd6AuPTDEpERLKTJDH0dffzgK/c/XPCMxn6pBqViIhkJkliqIyP3ayM7zfMeS0iIq1MksQwEngC2NjMRgIzgGtTjElERDKUZHTV281sBrAnUAwc6O6vpR6ZiIhkot4ag5ltC1zo7jcCjwM3mpmlHpmIiGQiSVPSWGACgLvPBS7hm6e5iYhIK5MkMazt7o9VvXH3xwmXr4qISCuU5JnPH5rZKYQ7ngF+AnyQXkgiIpKlJDWG44CDgIXAfOBAYGiaQYmISHaSXJU0n5AYRERkNZDkQT37AZcC6wNFVdPdfdMU4xIRkYwk6WP4I/BrYA6641lEpNVLkhg+cveHCrlQM+tMuIN6EGFgvgmEpDMHONXdVxRyeSIiklySxPCcmV0DPAZ8UTXR3Z9tzALNrB3wJ2BpnHQNcIG7TzOzMcChwKTGlC0iIqsuSWLYKf7dPmdaJbBXI5d5FTCG8BxpCMN5PxNfPwrsixKDiEhmklyVtGehFmZmPwfK3X2KmVUlhiJ3r+q7qADWTVhWGTACoLS0lOHDhxcqTGkBSko6ZR2CSK1a+v6Z5Kqk7sA4oAfhSW53Ase7+zuNWN7xhGG89yE80+E2oHPO552AT5MU5O5lQBlAeXlFZXl5RSPCkepKsg4gIf3ehdayD2TNTUvYP+tKXklucPsTcCWwhHDH812EA3qDuXt/dx/g7gOB2cCxwKNmNjB+ZX/gucaULSIihZEkMWzo7lMB3L3S3ccC6xQwht8AF5nZC0B7YGIByxYRkQZK0vm81My+S7yHwcx2B75c1QXHWkOVAatanoiIFEaSxPAr4CFgMzObTbgD+kdpBiUiItlJkhg2AvoBvQhPcHvD3ZelGpWIiGQmSWL4g7s/DLyedjAiIpK9JInhLTMbD7zEN3cr4+6NujJJRESatySJ4WPCqKq75EyrpJGXrIqISPOW5M7n45oiEBERaR6S3Pn8NjUMt63nMYiItE5JmpIG5rxuBwwG1kglGhERyVySpqT/VJt0pZlNJzzVTUREWpkkTUn9c94WAVsDHVKLSEREMpWkKeminNeVwEfAkHTCERGRrCV6HoOZdXb3D81sLaCLu7/ZBLGJiEgG6h1d1cxOIzzWE8Jw/ZPN7KRUoxIRkcwkGXb7ZMIDeqo6ovsCp6UZlIiIZCdJYmhH/jDby6jhvgYREWkdknQ+PwA8ZWb3EhLCEcBf0wxKRESyU2+Nwd3PBq4HDNgMuM7df5t2YCIiko0knc9dgH7ufhrwR+AIM9so9chERCQTSfoY7gDmxdcLgOeA21OLSEREMpUkMazv7n8CcPcv3X0ssGG6YYmISFaSJIalZrZ/1Rsz2wf4LL2QREQkS0muSjoF+LOZ/ZlwVdK7wDGpRiUiIplJMiTGbGAbM9sA+MrdF6celYiIZKbOpiQz629mT5jZp8CbwH1mtkeTRCYiIpmotcZgZnsRrj66FBgOtAd2A+42s6PdfVqTRNhKdO7cKesQEqm8I+sIRCRrdTUljQAOjE1JVWaZ2YvAtUD/GucSEZEWra6mpHWqJQUA3H0GsH5qEYmISKbqSgwdzexbNYo4LcnVTCIi0gLVlRimAL/PnWBmxYRmpIfTDEpERLJT15n/2YSH8rwJTI/f3RF4HTi8MQszs3bAeKAHsAahY/ufwATCPRJzgFPdfUVjyhcRkVVXa43B3T9z972AEwiJ4QXgGHc/0N2/rG2+ehwDfOzuewD7AzcA1wAXxGlFwKGNLFtERAogyQ1uzwDPFGh5fwEm5rxfTngiXFX5jwL7ApPqK8jMyghXTlFaWsrw4cMLFKK0BCUlLePyX1k9tfT9s0k7kd19CYCZdSIkiAuAq9y96olwFcC6CcsqA8oAyssrKsvLKwodboG17B2luWn+v3dLo/2zkFrC/llX8koyiF5Bmdn3gKeB2939TiC3P6ET8GlTxyQiIt9o0sQQH/AzFTjb3cfHybPMbGB8vT/heQ8iIpKRpr4f4TxgPeC3Zlb1eNDhwPVm1h6YS34fhIiINLGm7mMYTkgE1Q1oyjhERKR2Td7HICIizZsSg4iI5FFiEBGRPEoMIiKSR4lBRETyKDGIiEgeJQYREcmjxCAiInmUGEREJI8Sg4iI5FFiEBGRPEoMIiKSR4lBRETyKDGIiEgeJQYREcmjxCAiInmUGEREJI8Sg4iI5FFiEBGRPEoMIiKSR4lBRETyKDGIiEgeJQYREcmjxCAiInmUGEREJI8Sg4iI5FFiEBGRPEoMIiKSp23WAQCYWRtgFLAd8CUw1N3fzDYqEZHVU3OpMRwGrOnuuwLnAFdnG46IyOqruSSG3YHHANz9RWDHbMMREVl9NYumJGAdYFHO+6/NrK27L69tBjMrA0bEtxe5e1l64a26ysqsI0jGrFdZc9+WACVZB9DKaP8srJa+fzaXxLAY6JTzvk1dSQEg7hxlKca0uhqBtqs0X9o/m0BzaUp6HjgAwMx2AV7LNhwRkdVXc6kxTAIGmdnfgSLguIzjERFZbTWLxODuK4BTso5DALgo6wBE6qD9swkUVbaUXicREWkSzaWPQUREmgklBhERyaPEICIieZQYREQkjxKDiIjkUWIQEZE8SgwCrBz6XERE9zGszsxsU+Aawmi2ywknCq8Bv3L3f2UZm4hkp1nc+SyZGQec6+4vVU2IY1XdAnw/s6hEJFNKDKu3NXOTAoTnYZhZVvGIrGRmTwNrVJtcBFS6+24ZhLTaUGJYvb1iZuMJD0laRBj6/ADg1UyjEgnOAcYCgwlNndJE1MewGjOzIsJjVXcnPCxpMWEI9Enurh1DMmdmZwJvuvukrGNZnSgxiIhIHl2iKCIieZQYREQkjzqfJRVm9lPgAqAdMNLdb2zAvAOBKcAO7v56zvRKdy9KWEYP4F/AP+OkDsDfgXPc/QMz2xE4xd2HJo2rKZnZtsDd7r51A+crIzz06n3CFTzFwBh3vyF+fjEw3d0fLGzE0pqoxiAFZ2ZdgcsIndp9gJPMbKtGFDXBzIpXIZQF7t7H3fsAWxAOlhMB3H16M04KxxKuFFu7kUWMieu9HbAncLKZnQDg7hcqKUh9VGOQNOwDPOXu/wMws4nAD4GLG1DGC8Ay4Gzgd7kfxOE7RgJ7A5XA7e7++7oKc/dKMxsBfGBmvYH1gTJ3H2hmvwaGACuAl9395JiQrgQGEs66J7j7tWbWFhgNbANsRLi09yhCzeguYOO4yIvc/UEz6xm/vwHwOXCau8+qLU4zWxc4NJZ5W71bqR7uXm5mlxAu/bzZzCYA04D7GxKvmW0D/BHoCHQGLnf3MWa2N/AHwu/wCXCUu38Uk9vphJPPGcCp7v7Fqq6PNA3VGCQNXYCFOe8XAt9tRDlDgV+ZWfXmlFOA7wG9gZ2AI8zswPoKc/dlwL8JtQcAYgI4lzAsSF+gfazxnBjn2SEu41Az2wPYDVjm7rsCPYH/I9z7MRh4x937AicAe8RF3AqcFcs5Cbi7nhgXufsRwPz61qcB5pCzzlFD4x0KXOru/Qi1kCvj9AsITXI7Ao8DO8Tf60Rgt1hb+xA4o4DrIylTYpA0tCGcQVYpIpyNN4i7zwfO59tNSnsRzuC/dvfPgTsItYckKoGlOcv4mtD38A9gBHC1u79HqPUcYmazgZcIiW1bd38WGGVmpwLXAZsTzqL/DhxmZg8A/YBLzKxjfH1LLOdOoKOZbdDQbbGK8tY5ami8vwHWNLNzgUsJ6wzwIDDJzG4AZrn7VELi2Bx4MZZzKN9OTNKMqSlJ0vBfvjkDhdBcsSD3C2Z2CuHMH0Kb+JiaCnL3m8zsh4QmpSrVT2iKSLAvm1l7wAgd0t/L+egwYBdgf+AxMzua0Hx0lrvfH+fdEFhiZocQmsSuI4wptSFQ5O7/NrMtgB8ABxMOpDsDX8Sz5qoYvgv8r75Y61mPcYQaDsBQd59ezyy9+aYTHoBGxDuR0FQ0mVCLOCqWc62ZTQYOAv4Qmw2XAPe6+y9jGR3RsaZFUY1B0vAEsLeZlZjZWsARhM7Uldy9qoO0T21JIcdQ4Fc5758ChphZcSz/aODpugqI/RIXAS+6+1s500sIB83X3P1CYCrhQPoUcKKZtYsHtr8Rksc+hIPeLcCnhLPjYjMbRmin/wtQSmiHLwL+bWbHxGUNAp6tZ13r5e5Dc7ZdnUnBzL4DnAfcWG16Q+MdBFzo7n8lJFDi9n8J6OTuI4FrgR0IfRiDzaxzvLt+NKG/QVoIJQYpuNgUcz7hYD0buNPdX16F8uYTDm5V/kSolbwCzAIm1zJkQhczmx2bM14BuhLPdHPKLgduAv5hZjOANYHxwBhCf8QsYDpwi7tPI4zdc5SZvQb8hTCEyCaEjmKL058DznT3TwlJa6iZvQpcDhwZO8IPiWf+aTglrvcs4FHgT+5evW+jQfECZcDfzOyfhNrgO3G9zyM09c0g9FWc4+6vEJLwU8DrhNrXFSmtq6RAQ2KIZCA2a13n7r/IOhaR6lRjEMnGloQmFpFmRzUGERHJoxqDiIjkUWIQEZE8SgwiIpJHiUFERPIoMYiISJ7/B/KvRu0ECG72AAAAAElFTkSuQmCC\n",
      "text/plain": [
       "<Figure size 432x288 with 1 Axes>"
      ]
     },
     "metadata": {
      "needs_background": "light"
     },
     "output_type": "display_data"
    }
   ],
   "source": [
    "pd.crosstab(df.target, df.sex)\n",
    "pd.crosstab(df.target, df.sex).plot(kind=\"bar\", color=[\"blue\", \"orange\"], title=\"Prevalence of heart disease in Males vs. Females\")\n",
    "plt.ylabel(\"Occurences of heart disease\")\n",
    "plt.xlabel(\"0 - No Disease, 1 - Disease\")\n",
    "plt.legend([\"Female\", \"Male\"]);"
   ]
  },
  {
   "cell_type": "markdown",
   "id": "006a71d5",
   "metadata": {},
   "source": [
    "If a patient in the dataset is female, there is a (72/24+72) = 75% chance that patient has heart disease. \n",
    "For males (93/114+93) = 45% chance that a male in the dataset has heart disease."
   ]
  },
  {
   "cell_type": "markdown",
   "id": "7e08f2d4",
   "metadata": {},
   "source": [
    "## Age vs Max Heart Rate for Heart Disease"
   ]
  },
  {
   "cell_type": "markdown",
   "id": "dd44a0a8",
   "metadata": {},
   "source": [
    "For the cell below, thalach is maximum heart rate achieved during the study"
   ]
  },
  {
   "cell_type": "code",
   "execution_count": 46,
   "id": "165795be",
   "metadata": {},
   "outputs": [
    {
     "data": {
      "image/png": "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\n",
      "text/plain": [
       "<Figure size 720x432 with 1 Axes>"
      ]
     },
     "metadata": {
      "needs_background": "light"
     },
     "output_type": "display_data"
    }
   ],
   "source": [
    "plt.figure(figsize=(10,6))\n",
    "\n",
    "#Scatter plot with positive examples\n",
    "plt.scatter(df.age[df.target==1],\n",
    "           df.thalach[df.target==1], \n",
    "           color = [\"blue\"])\n",
    "plt.title(\"Maximum Heart Rate Achieved vs. Age of patients (Positive results)\")\n",
    "\n",
    "#Scatter with negative examples\n",
    "plt.scatter(df.age[df.target==0],\n",
    "           df.thalach[df.target==0],\n",
    "           color = [\"Orange\"])\n",
    "                    \n",
    "                    \n",
    "                    \n",
    "plt.title(\"Maximum Heart Rate Achieved vs. Age of patients (Negative results)\")\n",
    "plt.legend([\"Male\",\"Female\"])\n",
    "plt.xlabel(\"Age of patient\")\n",
    "plt.ylabel(\"Max heart rate achieved\");"
   ]
  },
  {
   "cell_type": "markdown",
   "id": "d0977cf5",
   "metadata": {},
   "source": [
    "In this case, it's tough to say that any correlation exists. There appears to be a general downward trend for both positve cases and negative cases."
   ]
  },
  {
   "cell_type": "markdown",
   "id": "e7101428",
   "metadata": {},
   "source": [
    "## Does chest pain correlate to heart disease?"
   ]
  },
  {
   "cell_type": "code",
   "execution_count": 60,
   "id": "86c8ed61",
   "metadata": {},
   "outputs": [
    {
     "data": {
      "image/png": "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\n",
      "text/plain": [
       "<Figure size 432x288 with 1 Axes>"
      ]
     },
     "metadata": {
      "needs_background": "light"
     },
     "output_type": "display_data"
    }
   ],
   "source": [
    "pd.crosstab(df.cp, df.target)\n",
    "pd.crosstab(df.target, df.cp).plot(kind=\"bar\", color=[\"blue\", \"orange\", \"Red\", \"Green\"])\n",
    "plt.legend([\"Typical Angina\", \"Atypical Angina\", \"Non-Anginal\", \"Asymptomatic\"])\n",
    "plt.title(\"Occurences of heart disesase per chest pain type\");"
   ]
  },
  {
   "cell_type": "markdown",
   "id": "a8220fcc",
   "metadata": {},
   "source": [
    "It looks like there are a lot of patients without heart disease who suffer from Angina, while the most common form of pain for those with heart disease is Non-Anginal Pain"
   ]
  },
  {
   "cell_type": "markdown",
   "id": "70960491",
   "metadata": {},
   "source": [
    "### Correlation Matrix"
   ]
  },
  {
   "cell_type": "code",
   "execution_count": 62,
   "id": "cc256449",
   "metadata": {},
   "outputs": [
    {
     "data": {
      "image/png": "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\n",
      "text/plain": [
       "<Figure size 1080x720 with 2 Axes>"
      ]
     },
     "metadata": {
      "needs_background": "light"
     },
     "output_type": "display_data"
    }
   ],
   "source": [
    "corr_matrix = df.corr()\n",
    "plt.subplots(figsize=(15,10))\n",
    "ax = sns.heatmap(corr_matrix, annot=True, fmt=\".2f\")"
   ]
  },
  {
   "cell_type": "markdown",
   "id": "53ca710a",
   "metadata": {},
   "source": [
    "Based on the correlation matrix, there are only a few features that don't correlate somewhat (positively or negatively). Maybe we can remove chol and fbs from the training and test data later? This is something to look into, at the very least."
   ]
  },
  {
   "cell_type": "markdown",
   "id": "5dc6bfea",
   "metadata": {},
   "source": [
    "# Now let's actually do some modelling"
   ]
  },
  {
   "cell_type": "code",
   "execution_count": 83,
   "id": "a6859835",
   "metadata": {},
   "outputs": [],
   "source": [
    "X = df.drop(\"target\", axis=1)\n",
    "y = df[\"target\"]\n",
    "\n",
    "#split data into train and test sets\n",
    "X_train, X_test, y_train, y_test = train_test_split(X, y, test_size=0.2)\n",
    "\n",
    "\n"
   ]
  },
  {
   "cell_type": "markdown",
   "id": "ed3e463e",
   "metadata": {},
   "source": [
    "# One Hot Encoding to handle categorical data"
   ]
  },
  {
   "cell_type": "code",
   "execution_count": 159,
   "id": "df64ded1",
   "metadata": {},
   "outputs": [
    {
     "data": {
      "text/html": [
       "<div>\n",
       "<style scoped>\n",
       "    .dataframe tbody tr th:only-of-type {\n",
       "        vertical-align: middle;\n",
       "    }\n",
       "\n",
       "    .dataframe tbody tr th {\n",
       "        vertical-align: top;\n",
       "    }\n",
       "\n",
       "    .dataframe thead th {\n",
       "        text-align: right;\n",
       "    }\n",
       "</style>\n",
       "<table border=\"1\" class=\"dataframe\">\n",
       "  <thead>\n",
       "    <tr style=\"text-align: right;\">\n",
       "      <th></th>\n",
       "      <th>0</th>\n",
       "      <th>1</th>\n",
       "      <th>2</th>\n",
       "      <th>3</th>\n",
       "      <th>4</th>\n",
       "      <th>5</th>\n",
       "      <th>6</th>\n",
       "      <th>7</th>\n",
       "      <th>8</th>\n",
       "      <th>9</th>\n",
       "      <th>10</th>\n",
       "      <th>11</th>\n",
       "      <th>12</th>\n",
       "      <th>13</th>\n",
       "      <th>14</th>\n",
       "      <th>15</th>\n",
       "      <th>16</th>\n",
       "      <th>17</th>\n",
       "      <th>18</th>\n",
       "    </tr>\n",
       "  </thead>\n",
       "  <tbody>\n",
       "    <tr>\n",
       "      <th>0</th>\n",
       "      <td>0.0</td>\n",
       "      <td>0.0</td>\n",
       "      <td>0.0</td>\n",
       "      <td>1.0</td>\n",
       "      <td>0.0</td>\n",
       "      <td>0.0</td>\n",
       "      <td>1.0</td>\n",
       "      <td>0.0</td>\n",
       "      <td>58.0</td>\n",
       "      <td>0.0</td>\n",
       "      <td>150.0</td>\n",
       "      <td>283.0</td>\n",
       "      <td>1.0</td>\n",
       "      <td>0.0</td>\n",
       "      <td>162.0</td>\n",
       "      <td>0.0</td>\n",
       "      <td>1.0</td>\n",
       "      <td>2.0</td>\n",
       "      <td>0.0</td>\n",
       "    </tr>\n",
       "    <tr>\n",
       "      <th>1</th>\n",
       "      <td>0.0</td>\n",
       "      <td>1.0</td>\n",
       "      <td>0.0</td>\n",
       "      <td>0.0</td>\n",
       "      <td>0.0</td>\n",
       "      <td>0.0</td>\n",
       "      <td>1.0</td>\n",
       "      <td>0.0</td>\n",
       "      <td>74.0</td>\n",
       "      <td>0.0</td>\n",
       "      <td>120.0</td>\n",
       "      <td>269.0</td>\n",
       "      <td>0.0</td>\n",
       "      <td>0.0</td>\n",
       "      <td>121.0</td>\n",
       "      <td>1.0</td>\n",
       "      <td>0.2</td>\n",
       "      <td>2.0</td>\n",
       "      <td>1.0</td>\n",
       "    </tr>\n",
       "    <tr>\n",
       "      <th>2</th>\n",
       "      <td>1.0</td>\n",
       "      <td>0.0</td>\n",
       "      <td>0.0</td>\n",
       "      <td>0.0</td>\n",
       "      <td>0.0</td>\n",
       "      <td>0.0</td>\n",
       "      <td>0.0</td>\n",
       "      <td>1.0</td>\n",
       "      <td>50.0</td>\n",
       "      <td>1.0</td>\n",
       "      <td>144.0</td>\n",
       "      <td>200.0</td>\n",
       "      <td>0.0</td>\n",
       "      <td>0.0</td>\n",
       "      <td>126.0</td>\n",
       "      <td>1.0</td>\n",
       "      <td>0.9</td>\n",
       "      <td>1.0</td>\n",
       "      <td>0.0</td>\n",
       "    </tr>\n",
       "    <tr>\n",
       "      <th>3</th>\n",
       "      <td>1.0</td>\n",
       "      <td>0.0</td>\n",
       "      <td>0.0</td>\n",
       "      <td>0.0</td>\n",
       "      <td>0.0</td>\n",
       "      <td>0.0</td>\n",
       "      <td>0.0</td>\n",
       "      <td>1.0</td>\n",
       "      <td>56.0</td>\n",
       "      <td>1.0</td>\n",
       "      <td>130.0</td>\n",
       "      <td>283.0</td>\n",
       "      <td>1.0</td>\n",
       "      <td>0.0</td>\n",
       "      <td>103.0</td>\n",
       "      <td>1.0</td>\n",
       "      <td>1.6</td>\n",
       "      <td>0.0</td>\n",
       "      <td>0.0</td>\n",
       "    </tr>\n",
       "    <tr>\n",
       "      <th>4</th>\n",
       "      <td>1.0</td>\n",
       "      <td>0.0</td>\n",
       "      <td>0.0</td>\n",
       "      <td>0.0</td>\n",
       "      <td>0.0</td>\n",
       "      <td>0.0</td>\n",
       "      <td>1.0</td>\n",
       "      <td>0.0</td>\n",
       "      <td>62.0</td>\n",
       "      <td>0.0</td>\n",
       "      <td>140.0</td>\n",
       "      <td>268.0</td>\n",
       "      <td>0.0</td>\n",
       "      <td>0.0</td>\n",
       "      <td>160.0</td>\n",
       "      <td>0.0</td>\n",
       "      <td>3.6</td>\n",
       "      <td>0.0</td>\n",
       "      <td>2.0</td>\n",
       "    </tr>\n",
       "    <tr>\n",
       "      <th>...</th>\n",
       "      <td>...</td>\n",
       "      <td>...</td>\n",
       "      <td>...</td>\n",
       "      <td>...</td>\n",
       "      <td>...</td>\n",
       "      <td>...</td>\n",
       "      <td>...</td>\n",
       "      <td>...</td>\n",
       "      <td>...</td>\n",
       "      <td>...</td>\n",
       "      <td>...</td>\n",
       "      <td>...</td>\n",
       "      <td>...</td>\n",
       "      <td>...</td>\n",
       "      <td>...</td>\n",
       "      <td>...</td>\n",
       "      <td>...</td>\n",
       "      <td>...</td>\n",
       "      <td>...</td>\n",
       "    </tr>\n",
       "    <tr>\n",
       "      <th>237</th>\n",
       "      <td>1.0</td>\n",
       "      <td>0.0</td>\n",
       "      <td>0.0</td>\n",
       "      <td>0.0</td>\n",
       "      <td>0.0</td>\n",
       "      <td>0.0</td>\n",
       "      <td>0.0</td>\n",
       "      <td>1.0</td>\n",
       "      <td>35.0</td>\n",
       "      <td>1.0</td>\n",
       "      <td>126.0</td>\n",
       "      <td>282.0</td>\n",
       "      <td>0.0</td>\n",
       "      <td>0.0</td>\n",
       "      <td>156.0</td>\n",
       "      <td>1.0</td>\n",
       "      <td>0.0</td>\n",
       "      <td>2.0</td>\n",
       "      <td>0.0</td>\n",
       "    </tr>\n",
       "    <tr>\n",
       "      <th>238</th>\n",
       "      <td>1.0</td>\n",
       "      <td>0.0</td>\n",
       "      <td>0.0</td>\n",
       "      <td>0.0</td>\n",
       "      <td>0.0</td>\n",
       "      <td>0.0</td>\n",
       "      <td>1.0</td>\n",
       "      <td>0.0</td>\n",
       "      <td>61.0</td>\n",
       "      <td>0.0</td>\n",
       "      <td>130.0</td>\n",
       "      <td>330.0</td>\n",
       "      <td>0.0</td>\n",
       "      <td>0.0</td>\n",
       "      <td>169.0</td>\n",
       "      <td>0.0</td>\n",
       "      <td>0.0</td>\n",
       "      <td>2.0</td>\n",
       "      <td>0.0</td>\n",
       "    </tr>\n",
       "    <tr>\n",
       "      <th>239</th>\n",
       "      <td>0.0</td>\n",
       "      <td>0.0</td>\n",
       "      <td>1.0</td>\n",
       "      <td>0.0</td>\n",
       "      <td>0.0</td>\n",
       "      <td>0.0</td>\n",
       "      <td>1.0</td>\n",
       "      <td>0.0</td>\n",
       "      <td>54.0</td>\n",
       "      <td>0.0</td>\n",
       "      <td>135.0</td>\n",
       "      <td>304.0</td>\n",
       "      <td>1.0</td>\n",
       "      <td>1.0</td>\n",
       "      <td>170.0</td>\n",
       "      <td>0.0</td>\n",
       "      <td>0.0</td>\n",
       "      <td>2.0</td>\n",
       "      <td>0.0</td>\n",
       "    </tr>\n",
       "    <tr>\n",
       "      <th>240</th>\n",
       "      <td>1.0</td>\n",
       "      <td>0.0</td>\n",
       "      <td>0.0</td>\n",
       "      <td>0.0</td>\n",
       "      <td>0.0</td>\n",
       "      <td>0.0</td>\n",
       "      <td>1.0</td>\n",
       "      <td>0.0</td>\n",
       "      <td>55.0</td>\n",
       "      <td>0.0</td>\n",
       "      <td>180.0</td>\n",
       "      <td>327.0</td>\n",
       "      <td>0.0</td>\n",
       "      <td>2.0</td>\n",
       "      <td>117.0</td>\n",
       "      <td>1.0</td>\n",
       "      <td>3.4</td>\n",
       "      <td>1.0</td>\n",
       "      <td>0.0</td>\n",
       "    </tr>\n",
       "    <tr>\n",
       "      <th>241</th>\n",
       "      <td>1.0</td>\n",
       "      <td>0.0</td>\n",
       "      <td>0.0</td>\n",
       "      <td>0.0</td>\n",
       "      <td>0.0</td>\n",
       "      <td>0.0</td>\n",
       "      <td>0.0</td>\n",
       "      <td>1.0</td>\n",
       "      <td>54.0</td>\n",
       "      <td>1.0</td>\n",
       "      <td>110.0</td>\n",
       "      <td>239.0</td>\n",
       "      <td>0.0</td>\n",
       "      <td>1.0</td>\n",
       "      <td>126.0</td>\n",
       "      <td>1.0</td>\n",
       "      <td>2.8</td>\n",
       "      <td>1.0</td>\n",
       "      <td>1.0</td>\n",
       "    </tr>\n",
       "  </tbody>\n",
       "</table>\n",
       "<p>242 rows × 19 columns</p>\n",
       "</div>"
      ],
      "text/plain": [
       "      0    1    2    3    4    5    6    7     8    9      10     11   12  \\\n",
       "0    0.0  0.0  0.0  1.0  0.0  0.0  1.0  0.0  58.0  0.0  150.0  283.0  1.0   \n",
       "1    0.0  1.0  0.0  0.0  0.0  0.0  1.0  0.0  74.0  0.0  120.0  269.0  0.0   \n",
       "2    1.0  0.0  0.0  0.0  0.0  0.0  0.0  1.0  50.0  1.0  144.0  200.0  0.0   \n",
       "3    1.0  0.0  0.0  0.0  0.0  0.0  0.0  1.0  56.0  1.0  130.0  283.0  1.0   \n",
       "4    1.0  0.0  0.0  0.0  0.0  0.0  1.0  0.0  62.0  0.0  140.0  268.0  0.0   \n",
       "..   ...  ...  ...  ...  ...  ...  ...  ...   ...  ...    ...    ...  ...   \n",
       "237  1.0  0.0  0.0  0.0  0.0  0.0  0.0  1.0  35.0  1.0  126.0  282.0  0.0   \n",
       "238  1.0  0.0  0.0  0.0  0.0  0.0  1.0  0.0  61.0  0.0  130.0  330.0  0.0   \n",
       "239  0.0  0.0  1.0  0.0  0.0  0.0  1.0  0.0  54.0  0.0  135.0  304.0  1.0   \n",
       "240  1.0  0.0  0.0  0.0  0.0  0.0  1.0  0.0  55.0  0.0  180.0  327.0  0.0   \n",
       "241  1.0  0.0  0.0  0.0  0.0  0.0  0.0  1.0  54.0  1.0  110.0  239.0  0.0   \n",
       "\n",
       "      13     14   15   16   17   18  \n",
       "0    0.0  162.0  0.0  1.0  2.0  0.0  \n",
       "1    0.0  121.0  1.0  0.2  2.0  1.0  \n",
       "2    0.0  126.0  1.0  0.9  1.0  0.0  \n",
       "3    0.0  103.0  1.0  1.6  0.0  0.0  \n",
       "4    0.0  160.0  0.0  3.6  0.0  2.0  \n",
       "..   ...    ...  ...  ...  ...  ...  \n",
       "237  0.0  156.0  1.0  0.0  2.0  0.0  \n",
       "238  0.0  169.0  0.0  0.0  2.0  0.0  \n",
       "239  1.0  170.0  0.0  0.0  2.0  0.0  \n",
       "240  2.0  117.0  1.0  3.4  1.0  0.0  \n",
       "241  1.0  126.0  1.0  2.8  1.0  1.0  \n",
       "\n",
       "[242 rows x 19 columns]"
      ]
     },
     "execution_count": 159,
     "metadata": {},
     "output_type": "execute_result"
    }
   ],
   "source": [
    "one_hot = OneHotEncoder(handle_unknown='ignore')\n",
    "cat_features = [\"cp\", \"thal\"]\n",
    "transformer = ColumnTransformer([(\"one_hot\", one_hot, cat_features)], remainder=\"passthrough\")\n",
    "X_train_onehot = pd.DataFrame(transformer.fit_transform(X_train))\n",
    "X_test_onehot = pd.DataFrame(transformer.fit_transform(X_test))\n"
   ]
  },
  {
   "cell_type": "markdown",
   "id": "d54bffe9",
   "metadata": {},
   "source": [
    "I'm going to scale the data to a 0-1 scale. While technically not needed for all algorithms, it doesn't hurt and will allow other algorithms to be used if we so choose. Be sure to scale train and test splits separately, to avoid leakage."
   ]
  },
  {
   "cell_type": "code",
   "execution_count": 160,
   "id": "0e03345f",
   "metadata": {},
   "outputs": [],
   "source": [
    "scaler = MinMaxScaler()\n",
    "X_train_scaled = pd.DataFrame(scaler.fit_transform(X_train_onehot))\n",
    "X_test_scaled = pd.DataFrame(scaler.fit_transform(X_test_onehot))"
   ]
  },
  {
   "cell_type": "markdown",
   "id": "0a348547",
   "metadata": {},
   "source": [
    "Testing on 3 different models\n",
    "1. K Nearest Neighbors\n",
    "2. Random Forest\n",
    "3. Logistic Regression\n",
    "\n",
    "Scaling was really done for the sake of K Nearest Neighbors, which I believe requires some sort of scaling"
   ]
  },
  {
   "cell_type": "code",
   "execution_count": 161,
   "id": "1d5a1b8b",
   "metadata": {},
   "outputs": [],
   "source": [
    "models = {\"Logistic Regression\": LogisticRegression(),\n",
    "         \"KNN\": KNeighborsClassifier(),\n",
    "         \"Random Forest\": RandomForestClassifier()}\n",
    "\n",
    "def fit_and_score(models, X_train, X_test, y_train, Y_test):\n",
    "    \"\"\"\n",
    "    Fit and scores given machine learning models on the given input data\n",
    "    \"\"\"\n",
    "    \n",
    "    #set random seed for reproducibility\n",
    "    np.random.seed(42)\n",
    "    #make dictionary to keeo scores\n",
    "    model_scores = {}\n",
    "    for name, model in models.items():\n",
    "        model.fit(X_train, y_train)\n",
    "        model_scores[name] = model.score(X_test, y_test)\n",
    "    return model_scores"
   ]
  },
  {
   "cell_type": "code",
   "execution_count": 162,
   "id": "2ecda41c",
   "metadata": {},
   "outputs": [
    {
     "data": {
      "text/plain": [
       "{'Logistic Regression': 0.7868852459016393,\n",
       " 'KNN': 0.819672131147541,\n",
       " 'Random Forest': 0.8032786885245902}"
      ]
     },
     "execution_count": 162,
     "metadata": {},
     "output_type": "execute_result"
    }
   ],
   "source": [
    "model_scores = fit_and_score(models, X_train_scaled, X_test_scaled, y_train, y_test)\n",
    "model_scores"
   ]
  },
  {
   "cell_type": "markdown",
   "id": "43c2fede",
   "metadata": {},
   "source": [
    "### Quick plot of these results"
   ]
  },
  {
   "cell_type": "code",
   "execution_count": 163,
   "id": "d0ba7038",
   "metadata": {},
   "outputs": [
    {
     "data": {
      "image/png": "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\n",
      "text/plain": [
       "<Figure size 432x288 with 1 Axes>"
      ]
     },
     "metadata": {
      "needs_background": "light"
     },
     "output_type": "display_data"
    }
   ],
   "source": [
    "model_compare = pd.DataFrame(model_scores, index=[\"accuracy\"])\n",
    "model_compare.T.plot.bar();"
   ]
  },
  {
   "cell_type": "markdown",
   "id": "710b24a3",
   "metadata": {},
   "source": [
    "Accuracy is not necessarily the best measure of a model, but it isn't a waste of time to look at it either. Initially, this shows RandomForest doing the \"best\" and Logistic Regression doing the \"worst\". Now with a baseline, I can tune the models."
   ]
  },
  {
   "cell_type": "markdown",
   "id": "c9185353",
   "metadata": {},
   "source": [
    "# Hyperparameter tuning"
   ]
  },
  {
   "cell_type": "code",
   "execution_count": 164,
   "id": "0b2de0bd",
   "metadata": {},
   "outputs": [
    {
     "name": "stdout",
     "output_type": "stream",
     "text": [
      "The max accuracy for KNN is 81.97% \n"
     ]
    },
    {
     "data": {
      "image/png": "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\n",
      "text/plain": [
       "<Figure size 432x288 with 1 Axes>"
      ]
     },
     "metadata": {
      "needs_background": "light"
     },
     "output_type": "display_data"
    }
   ],
   "source": [
    "#Tuning KNN\n",
    "train_scores = []\n",
    "test_scores = []\n",
    "np.random.seed(42)\n",
    "#Create a different list for n neighbors\n",
    "neighbors = range(1,21)\n",
    "knn = KNeighborsClassifier()\n",
    "\n",
    "#loop over values for neighbors\n",
    "for i in neighbors:\n",
    "    knn.set_params(n_neighbors=i)\n",
    "    \n",
    "    knn.fit(X_train_scaled, y_train)\n",
    "    \n",
    "    train_scores.append(knn.score(X_train_scaled, y_train))\n",
    "    \n",
    "    test_scores.append(knn.score(X_test_scaled, y_test))\n",
    "\n",
    "plt.plot(neighbors, train_scores, label = \"Train Score\")\n",
    "plt.plot(neighbors, test_scores, label = \"Test Score\")\n",
    "plt.legend();\n",
    "print(f\"The max accuracy for KNN is {max(test_scores)*100:.2f}% \")"
   ]
  },
  {
   "cell_type": "markdown",
   "id": "58d9f8f2",
   "metadata": {},
   "source": [
    "By changing the number of neighbors, I'm able to improve the accuracy of the KNN algorithm a bit but not incredibly much. This is largely inefficient hyperparamter tuneing. We'll come back to this in a bit. Let's take a look at the other two models now."
   ]
  },
  {
   "cell_type": "markdown",
   "id": "8a4811af",
   "metadata": {},
   "source": [
    "# Using RandomizedSearchCV to tune hyperparameters"
   ]
  },
  {
   "cell_type": "code",
   "execution_count": 165,
   "id": "e821c4d8",
   "metadata": {},
   "outputs": [],
   "source": [
    "# create a hyperparameter grid for logisticRegression\n",
    "\n",
    "log_reg_grid = {\"C\":np.logspace(-4, 4, 20),\n",
    "               \"solver\": [\"liblinear\"]}\n",
    "\n",
    "#create grid for RandomForest\n",
    "\n",
    "rf_grid = {\"n_estimators\":np.arange(10, 1000, 50),\n",
    "          \"max_depth\":[None, 3, 5, 10],\n",
    "          \"min_samples_split\":np.arange(2,20,2),\n",
    "          \"min_samples_leaf\": np.arange(1,20,2)}"
   ]
  },
  {
   "cell_type": "code",
   "execution_count": 166,
   "id": "fcf3cdbd",
   "metadata": {},
   "outputs": [
    {
     "name": "stdout",
     "output_type": "stream",
     "text": [
      "Fitting 5 folds for each of 20 candidates, totalling 100 fits\n"
     ]
    },
    {
     "data": {
      "text/plain": [
       "RandomizedSearchCV(cv=5, estimator=LogisticRegression(), n_iter=20,\n",
       "                   param_distributions={'C': array([1.00000000e-04, 2.63665090e-04, 6.95192796e-04, 1.83298071e-03,\n",
       "       4.83293024e-03, 1.27427499e-02, 3.35981829e-02, 8.85866790e-02,\n",
       "       2.33572147e-01, 6.15848211e-01, 1.62377674e+00, 4.28133240e+00,\n",
       "       1.12883789e+01, 2.97635144e+01, 7.84759970e+01, 2.06913808e+02,\n",
       "       5.45559478e+02, 1.43844989e+03, 3.79269019e+03, 1.00000000e+04]),\n",
       "                                        'solver': ['liblinear']},\n",
       "                   verbose=True)"
      ]
     },
     "execution_count": 166,
     "metadata": {},
     "output_type": "execute_result"
    }
   ],
   "source": [
    "#Tune Logistic Regression\n",
    "\n",
    "np.random.seed(42)\n",
    "\n",
    "rs_log_reg = RandomizedSearchCV(LogisticRegression(),\n",
    "                               param_distributions = log_reg_grid,\n",
    "                               cv=5, \n",
    "                               n_iter=20,\n",
    "                               verbose=True)\n",
    "#fit hyperparamter search model for Logistic Regression\n",
    "rs_log_reg.fit(X_train_scaled, y_train)"
   ]
  },
  {
   "cell_type": "code",
   "execution_count": 167,
   "id": "d6b856e8",
   "metadata": {},
   "outputs": [
    {
     "data": {
      "text/plain": [
       "0.7868852459016393"
      ]
     },
     "execution_count": 167,
     "metadata": {},
     "output_type": "execute_result"
    }
   ],
   "source": [
    "rs_log_reg.score(X_test_scaled, y_test)"
   ]
  },
  {
   "cell_type": "markdown",
   "id": "eea9b857",
   "metadata": {},
   "source": [
    "It looks like just about the same score. Trying RandomForest now"
   ]
  },
  {
   "cell_type": "code",
   "execution_count": 168,
   "id": "8eec1f1e",
   "metadata": {},
   "outputs": [
    {
     "name": "stdout",
     "output_type": "stream",
     "text": [
      "Fitting 5 folds for each of 20 candidates, totalling 100 fits\n",
      "[CV] END max_depth=None, min_samples_leaf=9, min_samples_split=16, n_estimators=10; total time=   0.0s\n",
      "[CV] END max_depth=None, min_samples_leaf=9, min_samples_split=16, n_estimators=10; total time=   0.0s\n",
      "[CV] END max_depth=None, min_samples_leaf=9, min_samples_split=16, n_estimators=10; total time=   0.0s\n",
      "[CV] END max_depth=None, min_samples_leaf=9, min_samples_split=16, n_estimators=10; total time=   0.0s\n",
      "[CV] END max_depth=None, min_samples_leaf=9, min_samples_split=16, n_estimators=10; total time=   0.0s\n",
      "[CV] END max_depth=5, min_samples_leaf=19, min_samples_split=18, n_estimators=510; total time=   0.4s\n",
      "[CV] END max_depth=5, min_samples_leaf=19, min_samples_split=18, n_estimators=510; total time=   0.4s\n",
      "[CV] END max_depth=5, min_samples_leaf=19, min_samples_split=18, n_estimators=510; total time=   0.4s\n",
      "[CV] END max_depth=5, min_samples_leaf=19, min_samples_split=18, n_estimators=510; total time=   0.4s\n",
      "[CV] END max_depth=5, min_samples_leaf=19, min_samples_split=18, n_estimators=510; total time=   0.4s\n",
      "[CV] END max_depth=5, min_samples_leaf=19, min_samples_split=2, n_estimators=310; total time=   0.2s\n",
      "[CV] END max_depth=5, min_samples_leaf=19, min_samples_split=2, n_estimators=310; total time=   0.2s\n",
      "[CV] END max_depth=5, min_samples_leaf=19, min_samples_split=2, n_estimators=310; total time=   0.2s\n",
      "[CV] END max_depth=5, min_samples_leaf=19, min_samples_split=2, n_estimators=310; total time=   0.2s\n",
      "[CV] END max_depth=5, min_samples_leaf=19, min_samples_split=2, n_estimators=310; total time=   0.2s\n",
      "[CV] END max_depth=5, min_samples_leaf=17, min_samples_split=16, n_estimators=560; total time=   0.4s\n",
      "[CV] END max_depth=5, min_samples_leaf=17, min_samples_split=16, n_estimators=560; total time=   0.4s\n",
      "[CV] END max_depth=5, min_samples_leaf=17, min_samples_split=16, n_estimators=560; total time=   0.4s\n",
      "[CV] END max_depth=5, min_samples_leaf=17, min_samples_split=16, n_estimators=560; total time=   0.4s\n",
      "[CV] END max_depth=5, min_samples_leaf=17, min_samples_split=16, n_estimators=560; total time=   0.4s\n",
      "[CV] END max_depth=5, min_samples_leaf=1, min_samples_split=18, n_estimators=610; total time=   0.5s\n",
      "[CV] END max_depth=5, min_samples_leaf=1, min_samples_split=18, n_estimators=610; total time=   0.5s\n",
      "[CV] END max_depth=5, min_samples_leaf=1, min_samples_split=18, n_estimators=610; total time=   0.5s\n",
      "[CV] END max_depth=5, min_samples_leaf=1, min_samples_split=18, n_estimators=610; total time=   0.5s\n",
      "[CV] END max_depth=5, min_samples_leaf=1, min_samples_split=18, n_estimators=610; total time=   0.5s\n",
      "[CV] END max_depth=3, min_samples_leaf=15, min_samples_split=4, n_estimators=610; total time=   0.5s\n",
      "[CV] END max_depth=3, min_samples_leaf=15, min_samples_split=4, n_estimators=610; total time=   0.5s\n",
      "[CV] END max_depth=3, min_samples_leaf=15, min_samples_split=4, n_estimators=610; total time=   0.6s\n",
      "[CV] END max_depth=3, min_samples_leaf=15, min_samples_split=4, n_estimators=610; total time=   0.4s\n",
      "[CV] END max_depth=3, min_samples_leaf=15, min_samples_split=4, n_estimators=610; total time=   0.4s\n",
      "[CV] END max_depth=10, min_samples_leaf=3, min_samples_split=16, n_estimators=710; total time=   0.6s\n",
      "[CV] END max_depth=10, min_samples_leaf=3, min_samples_split=16, n_estimators=710; total time=   0.6s\n",
      "[CV] END max_depth=10, min_samples_leaf=3, min_samples_split=16, n_estimators=710; total time=   0.5s\n",
      "[CV] END max_depth=10, min_samples_leaf=3, min_samples_split=16, n_estimators=710; total time=   0.6s\n",
      "[CV] END max_depth=10, min_samples_leaf=3, min_samples_split=16, n_estimators=710; total time=   0.6s\n",
      "[CV] END max_depth=10, min_samples_leaf=9, min_samples_split=16, n_estimators=260; total time=   0.1s\n",
      "[CV] END max_depth=10, min_samples_leaf=9, min_samples_split=16, n_estimators=260; total time=   0.1s\n",
      "[CV] END max_depth=10, min_samples_leaf=9, min_samples_split=16, n_estimators=260; total time=   0.1s\n",
      "[CV] END max_depth=10, min_samples_leaf=9, min_samples_split=16, n_estimators=260; total time=   0.1s\n",
      "[CV] END max_depth=10, min_samples_leaf=9, min_samples_split=16, n_estimators=260; total time=   0.1s\n",
      "[CV] END max_depth=None, min_samples_leaf=5, min_samples_split=12, n_estimators=310; total time=   0.2s\n",
      "[CV] END max_depth=None, min_samples_leaf=5, min_samples_split=12, n_estimators=310; total time=   0.2s\n",
      "[CV] END max_depth=None, min_samples_leaf=5, min_samples_split=12, n_estimators=310; total time=   0.2s\n",
      "[CV] END max_depth=None, min_samples_leaf=5, min_samples_split=12, n_estimators=310; total time=   0.2s\n",
      "[CV] END max_depth=None, min_samples_leaf=5, min_samples_split=12, n_estimators=310; total time=   0.2s\n",
      "[CV] END max_depth=5, min_samples_leaf=19, min_samples_split=12, n_estimators=710; total time=   0.5s\n",
      "[CV] END max_depth=5, min_samples_leaf=19, min_samples_split=12, n_estimators=710; total time=   0.5s\n",
      "[CV] END max_depth=5, min_samples_leaf=19, min_samples_split=12, n_estimators=710; total time=   0.5s\n",
      "[CV] END max_depth=5, min_samples_leaf=19, min_samples_split=12, n_estimators=710; total time=   0.5s\n",
      "[CV] END max_depth=5, min_samples_leaf=19, min_samples_split=12, n_estimators=710; total time=   0.6s\n",
      "[CV] END max_depth=5, min_samples_leaf=9, min_samples_split=12, n_estimators=310; total time=   0.2s\n",
      "[CV] END max_depth=5, min_samples_leaf=9, min_samples_split=12, n_estimators=310; total time=   0.2s\n",
      "[CV] END max_depth=5, min_samples_leaf=9, min_samples_split=12, n_estimators=310; total time=   0.2s\n",
      "[CV] END max_depth=5, min_samples_leaf=9, min_samples_split=12, n_estimators=310; total time=   0.2s\n",
      "[CV] END max_depth=5, min_samples_leaf=9, min_samples_split=12, n_estimators=310; total time=   0.2s\n",
      "[CV] END max_depth=10, min_samples_leaf=1, min_samples_split=18, n_estimators=910; total time=   0.7s\n",
      "[CV] END max_depth=10, min_samples_leaf=1, min_samples_split=18, n_estimators=910; total time=   0.8s\n",
      "[CV] END max_depth=10, min_samples_leaf=1, min_samples_split=18, n_estimators=910; total time=   0.8s\n",
      "[CV] END max_depth=10, min_samples_leaf=1, min_samples_split=18, n_estimators=910; total time=   0.7s\n",
      "[CV] END max_depth=10, min_samples_leaf=1, min_samples_split=18, n_estimators=910; total time=   0.7s\n",
      "[CV] END max_depth=10, min_samples_leaf=9, min_samples_split=12, n_estimators=560; total time=   0.4s\n",
      "[CV] END max_depth=10, min_samples_leaf=9, min_samples_split=12, n_estimators=560; total time=   0.4s\n",
      "[CV] END max_depth=10, min_samples_leaf=9, min_samples_split=12, n_estimators=560; total time=   0.4s\n",
      "[CV] END max_depth=10, min_samples_leaf=9, min_samples_split=12, n_estimators=560; total time=   0.4s\n",
      "[CV] END max_depth=10, min_samples_leaf=9, min_samples_split=12, n_estimators=560; total time=   0.4s\n",
      "[CV] END max_depth=3, min_samples_leaf=19, min_samples_split=4, n_estimators=210; total time=   0.1s\n",
      "[CV] END max_depth=3, min_samples_leaf=19, min_samples_split=4, n_estimators=210; total time=   0.1s\n",
      "[CV] END max_depth=3, min_samples_leaf=19, min_samples_split=4, n_estimators=210; total time=   0.1s\n",
      "[CV] END max_depth=3, min_samples_leaf=19, min_samples_split=4, n_estimators=210; total time=   0.1s\n",
      "[CV] END max_depth=3, min_samples_leaf=19, min_samples_split=4, n_estimators=210; total time=   0.1s\n",
      "[CV] END max_depth=3, min_samples_leaf=15, min_samples_split=12, n_estimators=560; total time=   0.4s\n",
      "[CV] END max_depth=3, min_samples_leaf=15, min_samples_split=12, n_estimators=560; total time=   0.4s\n",
      "[CV] END max_depth=3, min_samples_leaf=15, min_samples_split=12, n_estimators=560; total time=   0.4s\n",
      "[CV] END max_depth=3, min_samples_leaf=15, min_samples_split=12, n_estimators=560; total time=   0.4s\n",
      "[CV] END max_depth=3, min_samples_leaf=15, min_samples_split=12, n_estimators=560; total time=   0.4s\n",
      "[CV] END max_depth=3, min_samples_leaf=13, min_samples_split=4, n_estimators=960; total time=   0.8s\n",
      "[CV] END max_depth=3, min_samples_leaf=13, min_samples_split=4, n_estimators=960; total time=   0.8s\n",
      "[CV] END max_depth=3, min_samples_leaf=13, min_samples_split=4, n_estimators=960; total time=   0.8s\n",
      "[CV] END max_depth=3, min_samples_leaf=13, min_samples_split=4, n_estimators=960; total time=   0.8s\n",
      "[CV] END max_depth=3, min_samples_leaf=13, min_samples_split=4, n_estimators=960; total time=   0.8s\n"
     ]
    },
    {
     "name": "stdout",
     "output_type": "stream",
     "text": [
      "[CV] END max_depth=None, min_samples_leaf=1, min_samples_split=14, n_estimators=510; total time=   0.4s\n",
      "[CV] END max_depth=None, min_samples_leaf=1, min_samples_split=14, n_estimators=510; total time=   0.4s\n",
      "[CV] END max_depth=None, min_samples_leaf=1, min_samples_split=14, n_estimators=510; total time=   0.4s\n",
      "[CV] END max_depth=None, min_samples_leaf=1, min_samples_split=14, n_estimators=510; total time=   0.4s\n",
      "[CV] END max_depth=None, min_samples_leaf=1, min_samples_split=14, n_estimators=510; total time=   0.4s\n",
      "[CV] END max_depth=None, min_samples_leaf=19, min_samples_split=8, n_estimators=260; total time=   0.1s\n",
      "[CV] END max_depth=None, min_samples_leaf=19, min_samples_split=8, n_estimators=260; total time=   0.1s\n",
      "[CV] END max_depth=None, min_samples_leaf=19, min_samples_split=8, n_estimators=260; total time=   0.1s\n",
      "[CV] END max_depth=None, min_samples_leaf=19, min_samples_split=8, n_estimators=260; total time=   0.1s\n",
      "[CV] END max_depth=None, min_samples_leaf=19, min_samples_split=8, n_estimators=260; total time=   0.1s\n",
      "[CV] END max_depth=None, min_samples_leaf=9, min_samples_split=6, n_estimators=460; total time=   0.3s\n",
      "[CV] END max_depth=None, min_samples_leaf=9, min_samples_split=6, n_estimators=460; total time=   0.3s\n",
      "[CV] END max_depth=None, min_samples_leaf=9, min_samples_split=6, n_estimators=460; total time=   0.3s\n",
      "[CV] END max_depth=None, min_samples_leaf=9, min_samples_split=6, n_estimators=460; total time=   0.3s\n",
      "[CV] END max_depth=None, min_samples_leaf=9, min_samples_split=6, n_estimators=460; total time=   0.3s\n",
      "[CV] END max_depth=3, min_samples_leaf=7, min_samples_split=6, n_estimators=560; total time=   0.4s\n",
      "[CV] END max_depth=3, min_samples_leaf=7, min_samples_split=6, n_estimators=560; total time=   0.4s\n",
      "[CV] END max_depth=3, min_samples_leaf=7, min_samples_split=6, n_estimators=560; total time=   0.4s\n",
      "[CV] END max_depth=3, min_samples_leaf=7, min_samples_split=6, n_estimators=560; total time=   0.4s\n",
      "[CV] END max_depth=3, min_samples_leaf=7, min_samples_split=6, n_estimators=560; total time=   0.4s\n"
     ]
    },
    {
     "data": {
      "text/plain": [
       "RandomizedSearchCV(cv=5, estimator=RandomForestClassifier(), n_iter=20,\n",
       "                   param_distributions={'max_depth': [None, 3, 5, 10],\n",
       "                                        'min_samples_leaf': array([ 1,  3,  5,  7,  9, 11, 13, 15, 17, 19]),\n",
       "                                        'min_samples_split': array([ 2,  4,  6,  8, 10, 12, 14, 16, 18]),\n",
       "                                        'n_estimators': array([ 10,  60, 110, 160, 210, 260, 310, 360, 410, 460, 510, 560, 610,\n",
       "       660, 710, 760, 810, 860, 910, 960])},\n",
       "                   verbose=2)"
      ]
     },
     "execution_count": 168,
     "metadata": {},
     "output_type": "execute_result"
    }
   ],
   "source": [
    "np.random.seed(42)\n",
    "\n",
    "rs_rf = RandomizedSearchCV(RandomForestClassifier(), \n",
    "                          param_distributions=rf_grid, \n",
    "                          cv=5,\n",
    "                          n_iter=20,\n",
    "                          verbose=2)\n",
    "rs_rf.fit(X_train_scaled, y_train)\n"
   ]
  },
  {
   "cell_type": "code",
   "execution_count": 169,
   "id": "18bea4e5",
   "metadata": {},
   "outputs": [
    {
     "data": {
      "text/plain": [
       "0.8032786885245902"
      ]
     },
     "execution_count": 169,
     "metadata": {},
     "output_type": "execute_result"
    }
   ],
   "source": [
    "rs_rf.best_params_\n",
    "rs_rf.score(X_test_scaled, y_test)"
   ]
  },
  {
   "cell_type": "markdown",
   "id": "5c0accb8",
   "metadata": {},
   "source": [
    "Again, about the same score as before the tuning. This doesn't mean that tuning isn't going to help, just that it hasn't helped in this specific case"
   ]
  },
  {
   "cell_type": "code",
   "execution_count": null,
   "id": "87584386",
   "metadata": {},
   "outputs": [],
   "source": []
  }
 ],
 "metadata": {
  "kernelspec": {
   "display_name": "Python 3",
   "language": "python",
   "name": "python3"
  },
  "language_info": {
   "codemirror_mode": {
    "name": "ipython",
    "version": 3
   },
   "file_extension": ".py",
   "mimetype": "text/x-python",
   "name": "python",
   "nbconvert_exporter": "python",
   "pygments_lexer": "ipython3",
   "version": "3.8.8"
  }
 },
 "nbformat": 4,
 "nbformat_minor": 5
}
